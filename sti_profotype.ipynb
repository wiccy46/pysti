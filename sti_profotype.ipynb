{
 "cells": [
  {
   "cell_type": "code",
   "execution_count": 1,
   "metadata": {},
   "outputs": [],
   "source": [
    "from gtts import gTTS\n",
    "tts = gTTS('The Speech Transmission Index (STI) is a method of measuring speech intelligibility in noisy and reverberant environments.')\n",
    "tts.save('sentence.mp3')"
   ]
  },
  {
   "cell_type": "code",
   "execution_count": 2,
   "metadata": {},
   "outputs": [
    {
     "data": {
      "text/plain": [
       "Asig('sentence.mp3'): 1 x 236160 @ 24000Hz = 9.840s cn=['0']"
      ]
     },
     "execution_count": 2,
     "metadata": {},
     "output_type": "execute_result"
    }
   ],
   "source": [
    "from pya import Asig\n",
    "\n",
    "sen = Asig(\"sentence.mp3\")\n",
    "sen"
   ]
  },
  {
   "cell_type": "code",
   "execution_count": 10,
   "metadata": {},
   "outputs": [],
   "source": [
    "import numpy as np\n",
    "import matplotlib.pyplot as plt\n",
    "ir = np.sinc(np.arange(-7999, 8000))\n"
   ]
  },
  {
   "cell_type": "code",
   "execution_count": null,
   "metadata": {},
   "outputs": [],
   "source": [
    "from scipy.signal import butter, lfilter\n",
    "from warnings import catch_warnings,simplefilter\n",
    "\n",
    "def octave_filters(fs, N=6,\n",
    "                  f0 =[125, 250, 500, 1000, 2000, 4000, 8000],\n",
    "                  ):\n",
    "    \"\"\"Octave band filters for STI measurement. \n",
    "    \n",
    "    Parameters\n",
    "    ----------\n",
    "    fs : int\n",
    "        Sampling frequency\n",
    "    N : int\n",
    "        Filter order\n",
    "    f0 : list\n",
    "        Center frequency of each octave\n",
    "    \"\"\"\n",
    "   # calculate the nyquist frequency\n",
    "    nyquist = hz * 0.5\n",
    "    # length of Hamming window for FIR low-pass at 25 Hz\n",
    "    hammingLength = (hammingTime / 1000.0) * f0\n",
    "    # process each octave band\n",
    "    for f in f0:\n",
    "        # filter the output at the octave band f\n",
    "        f1 = f / np.sqrt(2)\n",
    "        f2 = f * np.sqrt(2)\n",
    "\n",
    "        if f < max(f0):\n",
    "            with catch_warnings():      # suppress the spurious warnings given\n",
    "                simplefilter('ignore')  # under certain conditions\n",
    "                b1,a1 = butter(butterOrd, f1/nyquist, btype='high')\n",
    "                b2,a2 = butter(butterOrd, f2/nyquist, btype='low')\n",
    "            \n",
    "            filtOut = lfilter(b1, a1, audio)   # high-pass raw audio at f1\n",
    "            filtOut = lfilter(b2, a2, filtOut) # low-pass after high-pass at f1\n",
    "        else:\n",
    "            with catch_warnings():\n",
    "                simplefilter('ignore')\n",
    "                b1,a1 = butter(butterOrd, f/nyquist, btype='high')\n",
    "            filtOut = lfilter(b1, a1, audio)\n",
    "\n",
    "        filtOut = np.array(filtOut)**2\n",
    "        b = firwin(hammingLength, 25.0, nyq=nyquist)\n",
    "        filtOut = lfilter(b, 1, filtOut)\n",
    "        filtOut = filtOut * -1.0\n",
    "\n",
    "        # stack-up octave band filtered audio\n",
    "        try:\n",
    "            octaveBandAudio = np.vstack((octaveBandAudio, filtOut))\n",
    "        except:\n",
    "            octaveBandAudio = filtOut\n",
    "\n",
    "    return octaveBandAudio\n",
    "    "
   ]
  },
  {
   "cell_type": "code",
   "execution_count": 15,
   "metadata": {},
   "outputs": [
    {
     "data": {
      "text/plain": [
       "'125'"
      ]
     },
     "execution_count": 15,
     "metadata": {},
     "output_type": "execute_result"
    }
   ],
   "source": [
    "f0 =[125, 250, 500, 1000, 2000, 4000, 8000]\n",
    "bands = str(f0[:f0.index(125) + 1]).strip('[]')\n",
    "bands"
   ]
  },
  {
   "cell_type": "code",
   "execution_count": null,
   "metadata": {},
   "outputs": [],
   "source": [
    "def octaveBandFilter(audio, hz, \n",
    "                     octaveBands=[125, 250, 500, 1000, 2000, 4000, 8000],\n",
    "                     butterOrd=6, hammingTime=16.6):\n",
    "    # calculate the nyquist frequency\n",
    "    nyquist = hz * 0.5\n",
    "\n",
    "    # length of Hamming window for FIR low-pass at 25 Hz\n",
    "    hammingLength = (hammingTime / 1000.0) * hz\n",
    "    # process each octave band\n",
    "    for f in octaveBands:\n",
    "        # filter the output at the octave band f\n",
    "        f1 = f / sqrt(2)\n",
    "        f2 = f * sqrt(2)\n",
    "\n",
    "        # for some odd reason the band-pass butterworth doesn't work right\n",
    "        # when the filter order is high (above 3). likely a SciPy issue?\n",
    "        # also, butter likes to complain about possibly useless results when\n",
    "        # calculating filter coefficients for high order (above 4) low-pass\n",
    "        # filters with relatively low knee frequencies (relative to nyquist F).\n",
    "        # perhaps I just don't know how digital butterworth filters work and\n",
    "        # their limitations but I think this is odd.\n",
    "        # the issue described here will be sent to their mailing list\n",
    "        if f < max(octaveBands):\n",
    "            with catch_warnings():      # suppress the spurious warnings given\n",
    "                simplefilter('ignore')  # under certain conditions\n",
    "                b1,a1 = butter(butterOrd, f1/nyquist, btype='high')\n",
    "                b2,a2 = butter(butterOrd, f2/nyquist, btype='low')\n",
    "            \n",
    "            filtOut = lfilter(b1, a1, audio)   # high-pass raw audio at f1\n",
    "            filtOut = lfilter(b2, a2, filtOut) # low-pass after high-pass at f1\n",
    "        else:\n",
    "            with catch_warnings():\n",
    "                simplefilter('ignore')\n",
    "                b1,a1 = butter(butterOrd, f/nyquist, btype='high')\n",
    "            filtOut = lfilter(b1, a1, audio)\n",
    "\n",
    "        filtOut = array(filtOut)**2\n",
    "        b = firwin(hammingLength, 25.0, nyq=nyquist)\n",
    "        filtOut = lfilter(b, 1, filtOut)\n",
    "        filtOut = filtOut * -1.0\n",
    "\n",
    "        # stack-up octave band filtered audio\n",
    "        try:\n",
    "            octaveBandAudio = vstack((octaveBandAudio, filtOut))\n",
    "        except:\n",
    "            octaveBandAudio = filtOut\n",
    "\n",
    "    print\n",
    "    return octaveBandAudio"
   ]
  }
 ],
 "metadata": {
  "kernelspec": {
   "display_name": "Python 3",
   "language": "python",
   "name": "python3"
  },
  "language_info": {
   "codemirror_mode": {
    "name": "ipython",
    "version": 3
   },
   "file_extension": ".py",
   "mimetype": "text/x-python",
   "name": "python",
   "nbconvert_exporter": "python",
   "pygments_lexer": "ipython3",
   "version": "3.7.7"
  }
 },
 "nbformat": 4,
 "nbformat_minor": 4
}

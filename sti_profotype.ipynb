{
 "cells": [
  {
   "cell_type": "code",
   "execution_count": 1,
   "metadata": {},
   "outputs": [
    {
     "name": "stdout",
     "output_type": "stream",
     "text": [
      "Jupyter backend error\n"
     ]
    }
   ],
   "source": [
    "import numpy as np\n",
    "import matplotlib.pyplot as plt\n",
    "from pya import Asig, Ugen\n",
    "from pysti import sti"
   ]
  },
  {
   "cell_type": "code",
   "execution_count": 11,
   "metadata": {},
   "outputs": [],
   "source": [
    "def print_sti(file):\n",
    "    ir_asig = Asig(file).mono().norm()\n",
    "    fs = ir_asig.sr\n",
    "    ir = ir_asig.sig\n",
    "    result = sti(ir, fs)\n",
    "    print(f\"STI of {file} is {result[0]}\")"
   ]
  },
  {
   "cell_type": "code",
   "execution_count": 14,
   "metadata": {},
   "outputs": [
    {
     "name": "stdout",
     "output_type": "stream",
     "text": [
      "STI of ./ami_ir/ir_gib_-24.aif is 0.3419925693899079\n",
      "STI of ./ami_ir/ir_gib_6.aif is 0.2278402655964666\n"
     ]
    }
   ],
   "source": [
    "print_sti(\"./ami_ir/ir_gib_-24.aif\")\n",
    "print_sti(\"./ami_ir/ir_gib_6.aif\")"
   ]
  },
  {
   "cell_type": "code",
   "execution_count": 16,
   "metadata": {},
   "outputs": [
    {
     "name": "stdout",
     "output_type": "stream",
     "text": [
      "STI of ./irs/BlockInside.wav is 0.3090390349081572\n",
      "STI of ./irs/echohall.wav is 0.2835846769793021\n"
     ]
    }
   ],
   "source": [
    "print_sti(\"./irs/BlockInside.wav\")\n",
    "print_sti(\"./irs/echohall.wav\")"
   ]
  }
 ],
 "metadata": {
  "kernelspec": {
   "display_name": "Python 3",
   "language": "python",
   "name": "python3"
  },
  "language_info": {
   "codemirror_mode": {
    "name": "ipython",
    "version": 3
   },
   "file_extension": ".py",
   "mimetype": "text/x-python",
   "name": "python",
   "nbconvert_exporter": "python",
   "pygments_lexer": "ipython3",
   "version": "3.7.7"
  }
 },
 "nbformat": 4,
 "nbformat_minor": 4
}

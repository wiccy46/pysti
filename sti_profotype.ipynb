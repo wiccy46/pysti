{
 "cells": [
  {
   "cell_type": "code",
   "execution_count": 1,
   "metadata": {},
   "outputs": [],
   "source": [
    "from gtts import gTTS\n",
    "tts = gTTS('The Speech Transmission Index (STI) is a method of measuring speech intelligibility in noisy and reverberant environments.')\n",
    "tts.save('sentence.mp3')"
   ]
  },
  {
   "cell_type": "code",
   "execution_count": 60,
   "metadata": {},
   "outputs": [
    {
     "data": {
      "text/plain": [
       "Asig('sentence.mp3'): 1 x 236160 @ 24000Hz = 9.840s cn=['0']"
      ]
     },
     "execution_count": 60,
     "metadata": {},
     "output_type": "execute_result"
    }
   ],
   "source": [
    "from pya import Asig, Ugen\n",
    "\n",
    "sen = Asig(\"sentence.mp3\")\n",
    "sen"
   ]
  },
  {
   "cell_type": "code",
   "execution_count": 1,
   "metadata": {},
   "outputs": [],
   "source": [
    "import numpy as np\n",
    "import matplotlib.pyplot as plt\n",
    "from pya import Asig, Ugen\n",
    "ir = Asig(\"ir1.wav\").mono().norm()\n",
    "fs = ir.sr\n",
    "ir = ir.sig"
   ]
  },
  {
   "cell_type": "code",
   "execution_count": 2,
   "metadata": {},
   "outputs": [
    {
     "data": {
      "text/plain": [
       "[<matplotlib.lines.Line2D at 0x1a1ae00f10>]"
      ]
     },
     "execution_count": 2,
     "metadata": {},
     "output_type": "execute_result"
    },
    {
     "data": {
      "image/png": "[encoded data removed]",
      "text/plain": [
       "<Figure size 432x288 with 1 Axes>"
      ]
     },
     "metadata": {
      "needs_background": "light"
     },
     "output_type": "display_data"
    }
   ],
   "source": [
    "plt.plot(ir)"
   ]
  },
  {
   "cell_type": "code",
   "execution_count": 18,
   "metadata": {},
   "outputs": [],
   "source": [
    "from scipy.signal import butter, lfilter, firwin\n",
    "from warnings import catch_warnings,simplefilter\n",
    "\n",
    "def octave_filters(x, fs, N=6,\n",
    "                  f0 =[125, 250, 500, 1000, 2000, 4000, 8000],\n",
    "                  hammingTime=16.6):\n",
    "    \"\"\"Octave band filters for STI measurement. \n",
    "    \n",
    "    Parameters\n",
    "    ----------\n",
    "    fs : int\n",
    "        Sampling frequency\n",
    "    N : int\n",
    "        Filter order\n",
    "    f0 : list\n",
    "        Center frequency of each octave\n",
    "    \"\"\"\n",
    "   # calculate the nyquist frequency\n",
    "    nyquist = fs * 0.5\n",
    "    # length of Hamming window for FIR low-pass at 25 Hz\n",
    "    hammingLength = (hammingTime / 1000.0) * fs\n",
    "    # process each octave band\n",
    "    for f in f0:\n",
    "        # filter the output at the octave band f\n",
    "        f1 = f / np.sqrt(2)\n",
    "        f2 = f * np.sqrt(2)\n",
    "\n",
    "        if f < max(f0):\n",
    "            with catch_warnings():      # suppress the spurious warnings given\n",
    "                simplefilter('ignore')  # under certain conditions\n",
    "                b1,a1 = butter(N, f1 / nyquist, btype='high')\n",
    "                b2,a2 = butter(N, f2 / nyquist, btype='low')\n",
    "            \n",
    "            filtOut = lfilter(b1, a1, x)   # high-pass raw audio at f1\n",
    "            filtOut = lfilter(b2, a2, filtOut) # low-pass after high-pass at f1\n",
    "        else:\n",
    "            with catch_warnings():\n",
    "                simplefilter('ignore')\n",
    "                b1,a1 = butter(N, f / nyquist, btype='high')\n",
    "            filtOut = lfilter(b1, a1, x)\n",
    "\n",
    "#         filtOut = np.array(filtOut) ** 2\n",
    "#         b = firwin(int(hammingLength), 25.0, nyq=nyquist)\n",
    "#         filtOut = lfilter(b, 1, filtOut)\n",
    "#         filtOut = filtOut * -1.0\n",
    "\n",
    "        # stack-up octave band filtered audio\n",
    "        try:\n",
    "            octaveBandAudio = np.vstack((octaveBandAudio, filtOut))\n",
    "        except:\n",
    "            octaveBandAudio = filtOut\n",
    "\n",
    "    return octaveBandAudio\n",
    "    "
   ]
  },
  {
   "cell_type": "code",
   "execution_count": 77,
   "metadata": {},
   "outputs": [],
   "source": [
    "from scipy.interpolate import interp1d\n",
    "\n",
    "def pow2db(x):\n",
    "    return 10 * np.log10(x)\n",
    "\n",
    "def get_mtf(ir):\n",
    "    return np.abs(np.fft.rfft(ir ** 2) / np.sum(ir ** 2))\n",
    "\n",
    "def sti(ir, fs):\n",
    "    \n",
    "    # 1. filter ir through octave bands\n",
    "    # 2. get MTF through \n",
    "    Nfc = 7  # 7 octaves from 125 - 8000Hz\n",
    "    \n",
    "    \n",
    "    ir_filtered = octave_filters(ir, fs)\n",
    "    # MTF function. \n",
    "    mtf = get_mtf(ir_filtered)\n",
    "    \n",
    "    modulation_freqs = [0.63, 0.80, 1.00, 1.25, 1.60, 2.00, 2.50, 3.15, 4.00, 5.00, 6.30, 8.00, 10.00, 12.50]\n",
    "    freqs = np.linspace(0, fs // 2, mtf.shape[1])\n",
    "#     freqs[-1] = 0 # No nyquist frequency\n",
    "\n",
    "\n",
    "    m = np.zeros((len(modulation_freqs), Nfc))\n",
    "    for i in range(Nfc):\n",
    "        # Old x is freqs, y is mtf[i, :], newx = modulation_freqs\n",
    "#         m(i,:) = interp1(freqs,MTF_octband(1:end/2,i),modulation_freqs);\n",
    "        interp = interp1d(freqs, mtf[i, :])\n",
    "        m[:, i] = interp(modulation_freqs)\n",
    "    \n",
    "    \n",
    "    # Convert each of the 98m values into an apparent SNR in dB\n",
    "    SNR_apparent = pow2db(m / (1 - m))\n",
    "    \n",
    "    # Limit the range\n",
    "    SNR_apparent = np.clip(SNR_apparent, -15, 15)\n",
    "\n",
    "    \n",
    "    # Compute the mean (S/N) for each octave band\n",
    "    SNR_avg = np.mean(SNR_apparent, axis=0)\n",
    "    \n",
    "    # weight the octave mean (S/N) vals\n",
    "    W = [0.13, 0.14, 0.11, 0.12, 0.19, 0.17, 0.14]\n",
    "    \n",
    "    weighted_m = m * W\n",
    "\n",
    "    SNR_avg_weighted = np.sum(np.dot(weighted_m, SNR_avg))\n",
    "    SNR_avg_weighted_approx = np.sum(np.dot(weighted_m / np.sum(weighted_m), SNR_avg))\n",
    "    \n",
    "    # Convert the overall mean to an STI val\n",
    "    sti_val = (SNR_avg_weighted + 15) / 30\n",
    "    sti_val_approx = (SNR_avg_weighted_approx + 15) / 30\n",
    "    \n",
    "    return mtf, sti_val, sti_val_approx, m\n",
    "\n",
    "noise = Ugen().noise(amp=0.01, sr=fs, n_rows=len(ir))\n",
    "sig = ir + noise.sig\n",
    "\n",
    "mtf, sti_val, sti_approx, m = sti(ir, fs)\n",
    "\n"
   ]
  },
  {
   "cell_type": "code",
   "execution_count": 78,
   "metadata": {},
   "outputs": [
    {
     "data": {
      "text/plain": [
       "[<matplotlib.lines.Line2D at 0x1a3973c350>]"
      ]
     },
     "execution_count": 78,
     "metadata": {},
     "output_type": "execute_result"
    },
    {
     "data": {
      "image/png": "[encoded data removed]",
      "text/plain": [
       "<Figure size 432x288 with 1 Axes>"
      ]
     },
     "metadata": {
      "needs_background": "light"
     },
     "output_type": "display_data"
    }
   ],
   "source": [
    "plt.plot(ir_filtered[0, :])"
   ]
  },
  {
   "cell_type": "code",
   "execution_count": 79,
   "metadata": {},
   "outputs": [
    {
     "data": {
      "text/plain": [
       "0.13756920261055522"
      ]
     },
     "execution_count": 79,
     "metadata": {},
     "output_type": "execute_result"
    }
   ],
   "source": [
    "sti_val"
   ]
  },
  {
   "cell_type": "code",
   "execution_count": 68,
   "metadata": {},
   "outputs": [],
   "source": [
    "m = m + 0.5"
   ]
  },
  {
   "cell_type": "code",
   "execution_count": 70,
   "metadata": {},
   "outputs": [
    {
     "data": {
      "text/plain": [
       "array([[0.28005301, 0.55620434, 1.19476078, 2.10545547, 3.49108107,\n",
       "        5.03901962, 3.76663878],\n",
       "       [0.26727628, 0.52815159, 1.14444079, 2.01626085, 3.34435631,\n",
       "        4.83188639, 3.64521902],\n",
       "       [0.25154992, 0.49347097, 1.08274056, 1.90658418, 3.164565  ,\n",
       "        4.57988729, 3.49398239],\n",
       "       [0.2303964 , 0.44723558, 1.00360593, 1.76482957, 2.92644837,\n",
       "        4.23698876, 3.26411645],\n",
       "       [0.20118154, 0.38504237, 0.89832498, 1.57810427, 2.60521242,\n",
       "        3.77299265, 2.92805916],\n",
       "       [0.16923985, 0.32146311, 0.79156919, 1.38776166, 2.2744162 ,\n",
       "        3.2882514 , 2.55940663],\n",
       "       [0.13225207, 0.25622543, 0.68182871, 1.18032159, 1.93352544,\n",
       "        2.77782787, 2.14496118],\n",
       "       [0.0904347 , 0.19566756, 0.55700199, 0.94191328, 1.60140015,\n",
       "        2.26805992, 1.74145001],\n",
       "       [0.05191017, 0.16269233, 0.42042449, 0.68600055, 1.31630857,\n",
       "        1.82891749, 1.40642733],\n",
       "       [0.03162584, 0.1351444 , 0.28061725, 0.45507888, 1.07635163,\n",
       "        1.46931824, 1.12490848],\n",
       "       [0.01381835, 0.10209852, 0.09274658, 0.21987838, 0.78880371,\n",
       "        1.03816272, 0.80532922],\n",
       "       [0.04555752, 0.12011216, 0.10436478, 0.18887087, 0.49759492,\n",
       "        0.73855035, 0.55602213],\n",
       "       [0.06935018, 0.11941312, 0.18498317, 0.28101655, 0.40164684,\n",
       "        0.64487384, 0.41169162],\n",
       "       [0.04668426, 0.07424787, 0.11525536, 0.28509414, 0.28051859,\n",
       "        0.61921812, 0.25733036]])"
      ]
     },
     "execution_count": 70,
     "metadata": {},
     "output_type": "execute_result"
    }
   ],
   "source": [
    "pow2db(m / (1 - m))"
   ]
  },
  {
   "cell_type": "code",
   "execution_count": 34,
   "metadata": {},
   "outputs": [
    {
     "data": {
      "text/plain": [
       "array([0, 1, 2, 3, 4, 5, 6, 7, 8, 9])"
      ]
     },
     "execution_count": 34,
     "metadata": {},
     "output_type": "execute_result"
    }
   ],
   "source": [
    "a"
   ]
  },
  {
   "cell_type": "code",
   "execution_count": null,
   "metadata": {},
   "outputs": [],
   "source": []
  }
 ],
 "metadata": {
  "kernelspec": {
   "display_name": "Python 3",
   "language": "python",
   "name": "python3"
  },
  "language_info": {
   "codemirror_mode": {
    "name": "ipython",
    "version": 3
   },
   "file_extension": ".py",
   "mimetype": "text/x-python",
   "name": "python",
   "nbconvert_exporter": "python",
   "pygments_lexer": "ipython3",
   "version": "3.7.6"
  }
 },
 "nbformat": 4,
 "nbformat_minor": 4
}
